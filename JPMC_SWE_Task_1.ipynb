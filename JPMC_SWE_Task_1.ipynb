{
  "nbformat": 4,
  "nbformat_minor": 0,
  "metadata": {
    "colab": {
      "provenance": [],
      "authorship_tag": "ABX9TyPg05dAdUinF/lsAjHjmdNh",
      "include_colab_link": true
    },
    "kernelspec": {
      "name": "python3",
      "display_name": "Python 3"
    },
    "language_info": {
      "name": "python"
    }
  },
  "cells": [
    {
      "cell_type": "markdown",
      "metadata": {
        "id": "view-in-github",
        "colab_type": "text"
      },
      "source": [
        "<a href=\"https://colab.research.google.com/github/omkarkulkarni2704/JP-Morgan-Chase-Co./blob/main/JPMC_SWE_Task_1.ipynb\" target=\"_parent\"><img src=\"https://colab.research.google.com/assets/colab-badge.svg\" alt=\"Open In Colab\"/></a>"
      ]
    },
    {
      "cell_type": "code",
      "execution_count": null,
      "metadata": {
        "colab": {
          "base_uri": "https://localhost:8080/"
        },
        "id": "ZAu34BsJyrtS",
        "outputId": "576d3c91-63d9-4f28-dd98-ae11a00d1b52"
      },
      "outputs": [
        {
          "output_type": "stream",
          "name": "stdout",
          "text": [
            "I'm a car!\n",
            "What should I do? [A]ccelerate, [B]rake, show [O]dometer, or show average [S]peed?A\n",
            "Accelerating...\n",
            "What should I do? [A]ccelerate, [B]rake, show [O]dometer, or show average [S]peed?B\n",
            "Braking...\n",
            "What should I do? [A]ccelerate, [B]rake, show [O]dometer, or show average [S]peed?O\n",
            "The car has driven 5 kilometers\n",
            "What should I do? [A]ccelerate, [B]rake, show [O]dometer, or show average [S]peed?S\n",
            "The car's average speed was 1.6666666666666667 kph\n"
          ]
        }
      ],
      "source": [
        "class Car:\n",
        "\n",
        "    def __init__(self, speed=0):\n",
        "        self.speed = speed\n",
        "        self.odometer = 0\n",
        "        self.time = 0\n",
        "\n",
        "    def accelerate(self):\n",
        "        self.speed += 5\n",
        "\n",
        "    def brake(self):\n",
        "        self.speed -= 5\n",
        "\n",
        "    def step(self):\n",
        "        self.odometer += self.speed\n",
        "        self.time += 1\n",
        "\n",
        "    def average_speed(self):\n",
        "        return self.odometer / self.time\n",
        "\n",
        "\n",
        "if __name__ == '__main__':\n",
        "\n",
        "    my_car = Car()\n",
        "    print(\"I'm a car!\")\n",
        "    while True:\n",
        "        action = input(\"What should I do? [A]ccelerate, [B]rake, \"\n",
        "                        \"show [O]dometer, or show average [S]peed?\").upper()\n",
        "        if action not in \"ABOS\" or len(action) != 1:\n",
        "            print(\"I don't know how to do that\")\n",
        "            continue\n",
        "        if action == 'A':\n",
        "            my_car.accelerate()\n",
        "            print(\"Accelerating...\")\n",
        "        elif action == 'B':\n",
        "            my_car.brake()\n",
        "            print(\"Braking...\")\n",
        "        elif action == 'O':\n",
        "            print(\"The car has driven {} kilometers\".format(my_car.odometer))\n",
        "        elif action == 'S':\n",
        "            print(\"The car's average speed was {} kph\".format(my_car.average_speed()))\n",
        "        my_car.step()\n",
        ""
      ]
    }
  ]
}